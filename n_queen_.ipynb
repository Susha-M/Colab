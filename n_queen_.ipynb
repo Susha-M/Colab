{
  "nbformat": 4,
  "nbformat_minor": 0,
  "metadata": {
    "colab": {
      "provenance": [],
      "authorship_tag": "ABX9TyPRcuOU74+BNhedH9yOsHK2",
      "include_colab_link": true
    },
    "kernelspec": {
      "name": "python3",
      "display_name": "Python 3"
    },
    "language_info": {
      "name": "python"
    }
  },
  "cells": [
    {
      "cell_type": "markdown",
      "metadata": {
        "id": "view-in-github",
        "colab_type": "text"
      },
      "source": [
        "<a href=\"https://colab.research.google.com/github/Susha-M/Colab/blob/main/n_queen_.ipynb\" target=\"_parent\"><img src=\"https://colab.research.google.com/assets/colab-badge.svg\" alt=\"Open In Colab\"/></a>"
      ]
    },
    {
      "cell_type": "code",
      "source": [
        "#n queen problem\n",
        "num=int(input('Enter the no.of queens u want the board for'))\n",
        "def queen(n):\n",
        "    import random\n",
        "    test1=['-']*n\n",
        "    board=[test1]*n\n",
        "    done=True\n",
        "    a,diag,odiag=0,0,0\n",
        "\n",
        "    while done==True:\n",
        "        trial1=random.randrange(0,n)\n",
        "        test=['-']*n\n",
        "        test[trial1]='*'\n",
        "\n",
        "        if test not in board:\n",
        "           if a==trial1:\n",
        "               if diag==0:\n",
        "                   board[a]=test\n",
        "                   a+=1\n",
        "                   diag+=1\n",
        "           elif a+trial1==(n-1):\n",
        "               if odiag==0:\n",
        "                   board[a]=test\n",
        "                   a+=1\n",
        "                   odiag+=1\n",
        "\n",
        "           else:\n",
        "               board[a]=test\n",
        "               a+=1\n",
        "\n",
        "        if a==n:\n",
        "            done=False\n",
        "    return board\n",
        "\n",
        "problem=queen(num)\n",
        "for i in problem:\n",
        "    for k in i :\n",
        "        print(k,end=' ')\n",
        "    print()\n"
      ],
      "metadata": {
        "colab": {
          "base_uri": "https://localhost:8080/"
        },
        "id": "yNfXfNaKEDH1",
        "outputId": "a9dea29e-76f1-456b-9586-36984ff2eeec"
      },
      "execution_count": 1,
      "outputs": [
        {
          "output_type": "stream",
          "name": "stdout",
          "text": [
            "Enter the no.of queens u want the board for6\n",
            "- - - - * - \n",
            "- - - * - - \n",
            "- - - - - * \n",
            "* - - - - - \n",
            "- * - - - - \n",
            "- - * - - - \n"
          ]
        }
      ]
    },
    {
      "cell_type": "code",
      "source": [],
      "metadata": {
        "id": "CoimIj3PEFeF"
      },
      "execution_count": null,
      "outputs": []
    },
    {
      "cell_type": "markdown",
      "source": [],
      "metadata": {
        "id": "c6hKIScaECdl"
      }
    },
    {
      "cell_type": "code",
      "source": [],
      "metadata": {
        "id": "-y-x2fyEFK29"
      },
      "execution_count": null,
      "outputs": []
    }
  ]
}